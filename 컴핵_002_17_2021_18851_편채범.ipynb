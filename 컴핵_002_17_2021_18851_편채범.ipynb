{
  "nbformat": 4,
  "nbformat_minor": 0,
  "metadata": {
    "colab": {
      "name": "컴핵_002_17_2021-18851_편채범.ipynb",
      "provenance": [],
      "collapsed_sections": [],
      "include_colab_link": true
    },
    "kernelspec": {
      "name": "python3",
      "display_name": "Python 3"
    },
    "language_info": {
      "name": "python"
    }
  },
  "cells": [
    {
      "cell_type": "markdown",
      "metadata": {
        "id": "view-in-github",
        "colab_type": "text"
      },
      "source": [
        "<a href=\"https://colab.research.google.com/github/dev-pyun/Boxiting-1/blob/master/%EC%BB%B4%ED%95%B5_002_17_2021_18851_%ED%8E%B8%EC%B1%84%EB%B2%94.ipynb\" target=\"_parent\"><img src=\"https://colab.research.google.com/assets/colab-badge.svg\" alt=\"Open In Colab\"/></a>"
      ]
    },
    {
      "cell_type": "markdown",
      "metadata": {
        "id": "Go8zQptdKfrz"
      },
      "source": [
        "#실습 1 (9/3)\n"
      ]
    },
    {
      "cell_type": "code",
      "metadata": {
        "colab": {
          "base_uri": "https://localhost:8080/"
        },
        "id": "nBUP8-HbH5xz",
        "outputId": "07a589ad-07c6-4256-bb55-f269c72be3fe"
      },
      "source": [
        "#여기는 실습만 작성하는 곳입니다.\n",
        "2 + 2"
      ],
      "execution_count": null,
      "outputs": [
        {
          "output_type": "execute_result",
          "data": {
            "text/plain": [
              "4"
            ]
          },
          "metadata": {},
          "execution_count": 2
        }
      ]
    },
    {
      "cell_type": "code",
      "metadata": {
        "colab": {
          "base_uri": "https://localhost:8080/"
        },
        "id": "L-JHU3VwLayF",
        "outputId": "1daec4b9-4795-4adb-d31d-69f21e5ba1d8"
      },
      "source": [
        "10/3"
      ],
      "execution_count": null,
      "outputs": [
        {
          "output_type": "execute_result",
          "data": {
            "text/plain": [
              "3.3333333333333335"
            ]
          },
          "metadata": {},
          "execution_count": 4
        }
      ]
    },
    {
      "cell_type": "code",
      "metadata": {
        "id": "BngTkflaOt8j",
        "colab": {
          "base_uri": "https://localhost:8080/"
        },
        "outputId": "98476505-f121-422c-fdbc-1a8bcbe0cc35"
      },
      "source": [
        "print('hello')"
      ],
      "execution_count": null,
      "outputs": [
        {
          "output_type": "stream",
          "name": "stdout",
          "text": [
            "hello\n"
          ]
        }
      ]
    },
    {
      "cell_type": "markdown",
      "metadata": {
        "id": "oh6aVRNQLlf8"
      },
      "source": [
        "#실습 2 (9/10)"
      ]
    },
    {
      "cell_type": "markdown",
      "metadata": {
        "id": "FW4asX7cBbrM"
      },
      "source": [
        "##Problem_1"
      ]
    },
    {
      "cell_type": "code",
      "metadata": {
        "colab": {
          "base_uri": "https://localhost:8080/"
        },
        "id": "tGdpp844BbCh",
        "outputId": "a6e2787f-9edb-4f04-e6ca-a0d24cfbf291"
      },
      "source": [
        "print(\"'Python' isn't difficult.\\n He said, \\\"Python is very easy.\\\" \\n\")\n",
        "\n",
        "# 방법 2\n",
        "print(\"'Python' isn't difficult.\")\n",
        "print('He said, \"Python is very easy.\"')\n",
        "print()\n",
        "\n",
        "# 방법 3: multiline string(여러줄의 문자열을 출력할 때, 작은따옴표 연속 세개로 묶는 기능)\n",
        "print(''''Python' isn't difficult.\n",
        "He said, \"Python is very easy.\"''')\n",
        "\n"
      ],
      "execution_count": null,
      "outputs": [
        {
          "output_type": "stream",
          "name": "stdout",
          "text": [
            "'Python' isn't difficult.\n",
            " He said, \"Python is very easy.\" \n",
            "\n",
            "'Python' isn't difficult.\n",
            "He said, \"Python is very easy.\"\n",
            "\n",
            "'Python' isn't difficult.\n",
            "He said, \"Python is very easy.\"\n"
          ]
        }
      ]
    },
    {
      "cell_type": "markdown",
      "metadata": {
        "id": "anI1-zluBy4F"
      },
      "source": [
        "##Problem_2: BMI 계산 프로그램"
      ]
    },
    {
      "cell_type": "code",
      "metadata": {
        "colab": {
          "base_uri": "https://localhost:8080/"
        },
        "id": "qHk8p_q9B0hV",
        "outputId": "f886a6ba-c71a-4685-c8c6-bf639f020d78"
      },
      "source": [
        "print('신장(cm)와 체중(kg)을 입력')\n",
        "cm = int(input())\n",
        "kg = float(input())\n",
        "BMI = kg / ((cm/100)**2)\n",
        "BMI = round(BMI, 2)\n",
        "# num: .2f 방식으로 써도 반올림 가능\n",
        "# int와 round 차이: int는 그냥 내림, round는 반올림임.\n",
        "\n",
        "print(f'BMI:{BMI}')"
      ],
      "execution_count": null,
      "outputs": [
        {
          "output_type": "stream",
          "name": "stdout",
          "text": [
            "신장(cm)와 체중(kg)을 입력\n",
            "190\n",
            "190\n",
            "BMI:52.63\n"
          ]
        }
      ]
    },
    {
      "cell_type": "code",
      "metadata": {
        "colab": {
          "base_uri": "https://localhost:8080/"
        },
        "id": "5Fr9yGiTVAfX",
        "outputId": "2885e2de-749a-4c61-ef33-efe209ad72c2"
      },
      "source": [
        "int(7.9)\n",
        "print(f'BMI:{BMI:.2f}')\n"
      ],
      "execution_count": null,
      "outputs": [
        {
          "output_type": "stream",
          "name": "stdout",
          "text": [
            "BMI:52.63\n"
          ]
        }
      ]
    },
    {
      "cell_type": "markdown",
      "metadata": {
        "id": "DF30QrXmB0_X"
      },
      "source": [
        "##Problem_3: 원 넓이 계산기"
      ]
    },
    {
      "cell_type": "code",
      "metadata": {
        "colab": {
          "base_uri": "https://localhost:8080/"
        },
        "id": "CTg3pFZ9B-CW",
        "outputId": "157a07b7-f7a2-43b9-c48c-dc6052324e91"
      },
      "source": [
        "from math import pi\n",
        "\n",
        "rad = int(input(\"원의 반지름 \"))\n",
        "\n",
        "area = rad**2 * pi\n",
        "around = 2 * pi * rad\n",
        "\n",
        "print(f\"원의 넓이 {area:.2f}\")\n",
        "print(f\"원의 둘레 {around:.2f}\")"
      ],
      "execution_count": null,
      "outputs": [
        {
          "output_type": "stream",
          "name": "stdout",
          "text": [
            "원의 반지름 3\n",
            "원의 넓이 28.27\n",
            "원의 둘레 18.85\n"
          ]
        }
      ]
    },
    {
      "cell_type": "markdown",
      "metadata": {
        "id": "Zr2UuoYbXKyp"
      },
      "source": [
        "##Problem_4: 할아버지가 외치는 무야호\n",
        "반복문을 찾으려면 어디에서, 무엇이 반복되는지를 체크하기!"
      ]
    },
    {
      "cell_type": "code",
      "metadata": {
        "colab": {
          "base_uri": "https://localhost:8080/"
        },
        "id": "ddRRMz7SXRCO",
        "outputId": "d168a571-bb42-4f48-872b-8d3807ad338b"
      },
      "source": [
        "for i in range(1, 6):\n",
        "  print(\"Grandfather: Muyaho ~~\\n\")\n",
        "  print(f\"Number of times grandfather shouted Muyaho: {i}\\n\")\n",
        "\n",
        "\n",
        "# 굳이 f-string을 안썼어도 될 것 같네용\n",
        "# while: 반복에 특화되어 있음.\n",
        "# for: 순회에 특화되어 있음. (~의 범위 안에서)\n",
        "# range: ~이상, ~미만, ~의 간격으로"
      ],
      "execution_count": null,
      "outputs": [
        {
          "output_type": "stream",
          "name": "stdout",
          "text": [
            "Grandfather: Muyaho ~~\n",
            "\n",
            "Number of times grandfather shouted Muyaho: 1\n",
            "\n",
            "Grandfather: Muyaho ~~\n",
            "\n",
            "Number of times grandfather shouted Muyaho: 2\n",
            "\n",
            "Grandfather: Muyaho ~~\n",
            "\n",
            "Number of times grandfather shouted Muyaho: 3\n",
            "\n",
            "Grandfather: Muyaho ~~\n",
            "\n",
            "Number of times grandfather shouted Muyaho: 4\n",
            "\n",
            "Grandfather: Muyaho ~~\n",
            "\n",
            "Number of times grandfather shouted Muyaho: 5\n",
            "\n"
          ]
        }
      ]
    },
    {
      "cell_type": "markdown",
      "metadata": {
        "id": "X_ZMy8NaZW60"
      },
      "source": [
        "##Problem_5: asterisk로 피라미드 만들기"
      ]
    },
    {
      "cell_type": "code",
      "metadata": {
        "colab": {
          "base_uri": "https://localhost:8080/"
        },
        "id": "eHI7je6YZ0G8",
        "outputId": "a8de75f8-4359-4caf-b5cc-9830484ef1a1"
      },
      "source": [
        "for i in range(1, 11):\n",
        "  print('*'* i)\n",
        "\n",
        "\n",
        "# indentation이 파이썬의 핵심입니당"
      ],
      "execution_count": null,
      "outputs": [
        {
          "output_type": "stream",
          "name": "stdout",
          "text": [
            "*\n",
            "**\n",
            "***\n",
            "****\n",
            "*****\n",
            "******\n",
            "*******\n",
            "********\n",
            "*********\n",
            "**********\n"
          ]
        }
      ]
    },
    {
      "cell_type": "code",
      "metadata": {
        "colab": {
          "base_uri": "https://localhost:8080/"
        },
        "id": "UuG0fpj9c_hi",
        "outputId": "1dff1e6f-1da5-4db3-bdfd-6f7816adb951"
      },
      "source": [
        "# 추가적으로 할만한 것\n",
        "for i in range(1, 11):\n",
        "  print(' '* i + '*' * (10 - i))"
      ],
      "execution_count": null,
      "outputs": [
        {
          "output_type": "stream",
          "name": "stdout",
          "text": [
            " *********\n",
            "  ********\n",
            "   *******\n",
            "    ******\n",
            "     *****\n",
            "      ****\n",
            "       ***\n",
            "        **\n",
            "         *\n",
            "          \n"
          ]
        }
      ]
    },
    {
      "cell_type": "markdown",
      "metadata": {
        "id": "XLEcmNCcItDk"
      },
      "source": [
        "#실습 3 (9/17)\n",
        "\n",
        "분기와 반복: 컴퓨팅의 핵심!  \n",
        "\n",
        "분기: 조건별로 경우를 나누어 각각 다른방식으로 처리(if)  \n",
        "반복: 반복문에는 for과 while이 존재한다.\n",
        "\n",
        "while은 탈출 조건이 정해져 있을 때  (by break)\n",
        "for은 탈출 시기가 정해져 있을 때 사용함\n",
        "\n",
        "list는 []안에서 만들어낼 수도 있음 for문을 이용해서\n",
        "\n",
        "or의 경우, 앞쪽에서 True가 나오면 뒤는 확인하지 않고 그냥 바로 ok가 나옴."
      ]
    },
    {
      "cell_type": "markdown",
      "metadata": {
        "id": "UAIv0YhmIyJP"
      },
      "source": [
        "##Problem_1: 약수 찾아내기"
      ]
    },
    {
      "cell_type": "code",
      "metadata": {
        "colab": {
          "base_uri": "https://localhost:8080/"
        },
        "id": "uLaeX9KcI0ol",
        "outputId": "8c84bc29-9435-462e-d762-33b3ce63e377"
      },
      "source": [
        "n = int(input())    #input 자체는 문자형 자료인 것을 기억하자..!\n",
        "\n",
        "for i in range(1, n+1):   #range는 a이상 b미만이다! \n",
        "  if (i % 2 == 0) or (i % 3 ==0):   #for에는 괄호를 넣어주는게 해석하기 편하다!\n",
        "    print(i)\n",
        "\n",
        "# 만약 if를 두번 쓰는 방식으로 문제를 풀면 2의 배수이면서 3의 배수인 녀석들이 2번 출력됨.\n",
        "# 만약 할꺼면 elif를 쓰셔야죵"
      ],
      "execution_count": null,
      "outputs": [
        {
          "output_type": "stream",
          "name": "stdout",
          "text": [
            "10\n",
            "2\n",
            "3\n",
            "4\n",
            "6\n",
            "8\n",
            "9\n",
            "10\n"
          ]
        }
      ]
    },
    {
      "cell_type": "markdown",
      "metadata": {
        "id": "lEKILpnDMpKx"
      },
      "source": [
        "##Problem_2: 올바른 아이디 판별하기\n",
        "문자열의 길이는 9~11  \n",
        "문자열의 첫 7글자는 'student' (case sensitive, 대문자 허용 x)  \n",
        "문자열의 마지막 1글자는 '!'여야\n",
        "\n",
        "###문자열의 연산\n",
        "1. indexing -> 앞에서부터는 0, 1, 2, 3.... 뒤에서부터는 -1, -2, -3... by 대괄호로 설정\n",
        "2. slicing -> [a:b] a위치부터 b위치까지 가능\n",
        "3. 덧셈 -> string끼리만! 붙이는 역할\n",
        "4. 곱셈 -> 반복하는 역할\n",
        "\n",
        "###한글끼리의 비교\n",
        "각 한글마다의 아스키코드 or 유니코드 값(파이썬 3버전은 이걸로)을 통해 이것을 비교하여 계산함."
      ]
    },
    {
      "cell_type": "code",
      "metadata": {
        "colab": {
          "base_uri": "https://localhost:8080/"
        },
        "id": "yJgyKFoqM43B",
        "outputId": "efdd4980-bcc8-434c-8ed5-07f2a5dc6c05"
      },
      "source": [
        "id = input()\n",
        "\n",
        "len(id)\n",
        "\n",
        "if len(id) <= 11 and len(id) >= 9 and id[0: 7] == 'student' and id[-1] == '!':    #논리 연산에는 하나하나 논리 연산자를 넣어야 해용\n",
        "  print('Success')\n",
        "\n",
        "else:\n",
        "  print ('Fail')\n",
        "\n",
        "# python에서는 9 <= x <= 11으로 설명해도 가능함.\n"
      ],
      "execution_count": null,
      "outputs": [
        {
          "output_type": "stream",
          "name": "stdout",
          "text": [
            "student00!\n",
            "Success\n"
          ]
        }
      ]
    },
    {
      "cell_type": "markdown",
      "metadata": {
        "id": "n-2scuO3M5Qq"
      },
      "source": [
        "##Problem_3: 회문(palindrome) 판별하기\n",
        "\n",
        "함수 찍고 뒤에 '?' 붙이면 그냥 파이썬에서 알려줌"
      ]
    },
    {
      "cell_type": "code",
      "metadata": {
        "colab": {
          "base_uri": "https://localhost:8080/"
        },
        "id": "LUhsBGPVNJPn",
        "outputId": "c7f99d35-f837-45fa-c43f-713810547ea0"
      },
      "source": [
        "word = input()\n",
        "length = len(word)\n",
        "\n",
        "for i in range(length // 2):    #굳이 중간 지점을 확인할 필요가 없네!\n",
        "  if word[i] == word [-(i + 1)]:\n",
        "    continue\n",
        "\n",
        "  else:\n",
        "    print('Fail')\n",
        "    break\n",
        "\n",
        "else:\n",
        "  print('success')\n",
        "\n",
        "  #//는 나누기를 하고 나머지를 버림.\n",
        "# 다른게 나오면 break 하도록 해도 될 것 같음."
      ],
      "execution_count": null,
      "outputs": [
        {
          "output_type": "stream",
          "name": "stdout",
          "text": [
            "ㅁㄴㅇㄹㄷㅇㄴㅁ\n",
            "Fail\n"
          ]
        }
      ]
    },
    {
      "cell_type": "markdown",
      "metadata": {
        "id": "cO4xxOH7NJjB"
      },
      "source": [
        "##Problem_4: 평균과 분산 구하기"
      ]
    },
    {
      "cell_type": "code",
      "metadata": {
        "colab": {
          "base_uri": "https://localhost:8080/"
        },
        "id": "RzC6sFi4NPeL",
        "outputId": "43f0aebe-d0a5-4879-88be-c1763aba61ad"
      },
      "source": [
        "numbers = input().split(' ')\n",
        "\n",
        "sum_1, sum_2 = 0, 0\n",
        "\n",
        "for n in numbers:\n",
        "  temp_int = int(n)\n",
        "  sum_1 += temp_int\n",
        "\n",
        "avg = sum_1 / len(numbers)\n",
        "\n",
        "for n in numbers:\n",
        "  temp_int = int(n)\n",
        "  delta = (temp_int - avg)**2\n",
        "  sum_2 += delta\n",
        "\n",
        "disp = sum_2 / len(numbers)\n",
        "\n",
        "print(int(avg))\n",
        "print(int(disp))\n"
      ],
      "execution_count": null,
      "outputs": [
        {
          "output_type": "stream",
          "name": "stdout",
          "text": [
            "1 3 14 5 7 8\n",
            "6\n",
            "17\n"
          ]
        }
      ]
    },
    {
      "cell_type": "markdown",
      "metadata": {
        "id": "R42jdY9vGQFU"
      },
      "source": [
        "#실습 4 (9/24)\n",
        "\n",
        "### 자료구조는 왜 배우는가?\n",
        "많은 수의 데이터를 관리하기 위해 Container Data Type을 배웠습니당  \n",
        "list: 순서가 있는 다양한 데이터를 넣기 위함  \n",
        "tuple: 순서가 있는 다양한 데이터를 넣으나, 수정할 수가 없음.  \n",
        "set: 집합, 순서가 없는, 무시되는 데이터  \n",
        "dict: key-value값으로 쌍으로 묶는 것.\n"
      ]
    },
    {
      "cell_type": "markdown",
      "metadata": {
        "id": "koLlXr6xGv-H"
      },
      "source": [
        "##Problem_1: 약수 구하기"
      ]
    },
    {
      "cell_type": "code",
      "metadata": {
        "id": "F7_2opFTG2T6",
        "colab": {
          "base_uri": "https://localhost:8080/"
        },
        "outputId": "f13134d4-07bb-4764-a1e7-a8d0b55a31f7"
      },
      "source": [
        "n = int(input())\n",
        "nanugi = []\n",
        "\n",
        "for k in range(1, n+1):\n",
        "  if n % k != 0:\n",
        "    continue\n",
        "\n",
        "  else:\n",
        "    nanugi.append(k)\n",
        "\n",
        "for i in nanugi:\n",
        "  print(i)\n",
        "\n",
        "\n",
        "# number = int(input())\n",
        "\n",
        "# for i in range(1, number + 1):\n",
        "#   if number%i == 0:\n",
        "#     print(i)"
      ],
      "execution_count": null,
      "outputs": [
        {
          "output_type": "stream",
          "name": "stdout",
          "text": [
            "10\n",
            "1\n",
            "2\n",
            "5\n",
            "10\n"
          ]
        }
      ]
    },
    {
      "cell_type": "markdown",
      "metadata": {
        "id": "hD_5KEsIG2ln"
      },
      "source": [
        "##Problem_2: 피보나치\n",
        "\n",
        "효과적인/효율적인 코딩을 위해 컴퓨터의 자원/ 시간을 최대한 덜 잡아먹게 하자  "
      ]
    },
    {
      "cell_type": "code",
      "metadata": {
        "id": "ZuPomVYAG6w1",
        "colab": {
          "base_uri": "https://localhost:8080/"
        },
        "outputId": "ce119eac-3658-47d6-98c5-e2e6c63c6bed"
      },
      "source": [
        "temp = [1, 1]\n",
        "\n",
        "n = int(input())\n",
        "\n",
        "if n <= 2:\n",
        "  print(1)\n",
        "\n",
        "else:\n",
        "  for i in range(2, n):\n",
        "    new = temp[0] + temp[1]\n",
        "    temp[0], temp[1] = temp[1], new\n",
        "\n",
        "  print(temp[1])\n",
        "\n",
        "\n",
        "# while을 쓰는게 더 좋을 때도 있다!\n",
        "# n = input()\n",
        "# n = int(n)\n",
        "\n",
        "# fib_list = [1, 1]\n",
        "# i = 2\n",
        "\n",
        "# while i < n:\n",
        "#   fib_next = fib_list[i - 2] + fib_list[i - 1]\n",
        "#   fib_list.append(fib_next)\n",
        "#   i += 1\n",
        "\n",
        "# print(fib_list[n-1])\n",
        "\n",
        "\n",
        "# a, b = b, a + b\n",
        "# 자원소모와 관련하여\n",
        "# "
      ],
      "execution_count": null,
      "outputs": [
        {
          "output_type": "stream",
          "name": "stdout",
          "text": [
            "8\n",
            "21\n"
          ]
        }
      ]
    },
    {
      "cell_type": "markdown",
      "metadata": {
        "id": "RLamQLPCG6-r"
      },
      "source": [
        "##Problem_3: 집합 가지고 놀기\n",
        "\n",
        "int split은 map으로 가야해용\n",
        "\n",
        "더 효율적인 풀이는 len(A|B|C) - len(A)\n",
        "수의 연산이 집합의 연산보다 빨라용"
      ]
    },
    {
      "cell_type": "code",
      "metadata": {
        "id": "SLPXmDfiG--7",
        "colab": {
          "base_uri": "https://localhost:8080/"
        },
        "outputId": "f6b7482c-94e2-4cca-e78d-785376ae1fa2"
      },
      "source": [
        "temp_A = input().split()\n",
        "temp_B = input().split()\n",
        "temp_C = input().split()\n",
        "\n",
        "A = set(map(int, temp_A))\n",
        "B = set(map(int, temp_B))\n",
        "C = set(map(int, temp_C))\n",
        "\n",
        "print(len(A|B|C) - len(A))    #len((A|B|C) - A)로도 가능해용\n",
        "print(len(A & B & C))\n",
        "\n"
      ],
      "execution_count": 20,
      "outputs": [
        {
          "output_type": "stream",
          "name": "stdout",
          "text": [
            "2 4 5\n",
            "1 2 2 1 10 4\n",
            "3 3 3 4\n",
            "3\n",
            "1\n"
          ]
        }
      ]
    },
    {
      "cell_type": "markdown",
      "metadata": {
        "id": "axYmwy22G_cw"
      },
      "source": [
        "##Problem_4: 메뉴 추천"
      ]
    },
    {
      "cell_type": "code",
      "metadata": {
        "colab": {
          "base_uri": "https://localhost:8080/"
        },
        "id": "uY599GDPclso",
        "outputId": "15576eed-d626-43dd-ea4b-8644c9cab15c"
      },
      "source": [
        "a = {1: 'a', 2: 'b'}\n",
        "b = a.items()\n",
        "\n",
        "print(b)"
      ],
      "execution_count": 23,
      "outputs": [
        {
          "output_type": "stream",
          "name": "stdout",
          "text": [
            "dict_items([(1, 'a'), (2, 'b')])\n"
          ]
        }
      ]
    },
    {
      "cell_type": "code",
      "metadata": {
        "id": "QiiUoufUHEaK",
        "colab": {
          "base_uri": "https://localhost:8080/"
        },
        "outputId": "8c89b20b-c2ff-4454-ad0b-9ad3d5b392f4"
      },
      "source": [
        "def change_to_dict():   #함수의 이름 정해주고, 매개변수 지정\n",
        " total_food = input()\n",
        " total_price = input()\n",
        " total_food = total_food.split()\n",
        " total_price = total_price.split()\n",
        "\n",
        " menu = dict()          #생성자 사용\n",
        "\n",
        " for food, price in zip(total_food, total_price):   #for에서도 여러가지 변수를 한꺼번에 사용 가능함   #zip을 이용해 쌍으로 묶어줄게용\n",
        "   menu[food] = int(price)\n",
        "\n",
        " return menu    #함수의 반환값을 알려줌. 꼭 반환이 되어야 함수가 의미 있음!\n",
        "\n",
        "\n",
        "menu = change_to_dict()\n",
        "\n",
        "temp_dic = {}\n",
        "\n",
        "for i in menu.items():   \n",
        "  temp_dic[i[1]] = i[0]\n",
        "\n",
        "new = sorted(temp_dic.items())\n",
        "print(f'Cheapest food: {new[0][1]}')\n",
        "print(f'Most expensive food: {new[-1][1]}')\n",
        "\n",
        "\n",
        "# from math import inf\n",
        "\n",
        "# min_price = inf\n",
        "# max_price = -inf\n",
        "\n",
        "# for food in menu.keys():\n",
        "#   if (menu[food] < min_price):\n",
        "#     min price = menu[food]\n",
        "#     min_food = food\n",
        "#   if (menu[food] > max_price):\n",
        "#     max price = menu[food]\n",
        "#     max_food = food"
      ],
      "execution_count": 28,
      "outputs": [
        {
          "output_type": "stream",
          "name": "stdout",
          "text": [
            "ham bread chicken egg\n",
            "1200 5000 17000 500\n",
            "Cheapest food: egg\n",
            "Most expensive food: chicken\n"
          ]
        }
      ]
    }
  ]
}